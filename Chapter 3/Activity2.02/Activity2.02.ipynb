{
 "cells": [
  {
   "cell_type": "markdown",
   "metadata": {},
   "source": [
    "## Activity 2.01"
   ]
  },
  {
   "cell_type": "code",
   "execution_count": 1,
   "metadata": {},
   "outputs": [],
   "source": [
    "import pandas as pd"
   ]
  },
  {
   "cell_type": "markdown",
   "metadata": {},
   "source": [
    "### Dealing with Messy Data"
   ]
  },
  {
   "cell_type": "code",
   "execution_count": 2,
   "metadata": {},
   "outputs": [
    {
     "data": {
      "text/html": [
       "<div>\n",
       "<style scoped>\n",
       "    .dataframe tbody tr th:only-of-type {\n",
       "        vertical-align: middle;\n",
       "    }\n",
       "\n",
       "    .dataframe tbody tr th {\n",
       "        vertical-align: top;\n",
       "    }\n",
       "\n",
       "    .dataframe thead th {\n",
       "        text-align: right;\n",
       "    }\n",
       "</style>\n",
       "<table border=\"1\" class=\"dataframe\">\n",
       "  <thead>\n",
       "    <tr style=\"text-align: right;\">\n",
       "      <th></th>\n",
       "      <th>0</th>\n",
       "      <th>1</th>\n",
       "      <th>2</th>\n",
       "      <th>3</th>\n",
       "      <th>4</th>\n",
       "      <th>5</th>\n",
       "      <th>6</th>\n",
       "      <th>7</th>\n",
       "      <th>8</th>\n",
       "      <th>9</th>\n",
       "      <th>...</th>\n",
       "      <th>81</th>\n",
       "      <th>82</th>\n",
       "      <th>83</th>\n",
       "      <th>84</th>\n",
       "      <th>85</th>\n",
       "      <th>86</th>\n",
       "      <th>87</th>\n",
       "      <th>88</th>\n",
       "      <th>89</th>\n",
       "      <th>90</th>\n",
       "    </tr>\n",
       "  </thead>\n",
       "  <tbody>\n",
       "    <tr>\n",
       "      <th>0</th>\n",
       "      <td>2001</td>\n",
       "      <td>49.94357</td>\n",
       "      <td>21.47114</td>\n",
       "      <td>73.07750</td>\n",
       "      <td>8.74861</td>\n",
       "      <td>-17.40628</td>\n",
       "      <td>-13.09905</td>\n",
       "      <td>-25.01202</td>\n",
       "      <td>-12.23257</td>\n",
       "      <td>7.83089</td>\n",
       "      <td>...</td>\n",
       "      <td>13.01620</td>\n",
       "      <td>-54.40548</td>\n",
       "      <td>58.99367</td>\n",
       "      <td>15.37344</td>\n",
       "      <td>1.11144</td>\n",
       "      <td>-23.08793</td>\n",
       "      <td>68.40795</td>\n",
       "      <td>-1.82223</td>\n",
       "      <td>-27.46348</td>\n",
       "      <td>2.26327</td>\n",
       "    </tr>\n",
       "    <tr>\n",
       "      <th>1</th>\n",
       "      <td>2001</td>\n",
       "      <td>48.73215</td>\n",
       "      <td>18.42930</td>\n",
       "      <td>70.32679</td>\n",
       "      <td>12.94636</td>\n",
       "      <td>-10.32437</td>\n",
       "      <td>-24.83777</td>\n",
       "      <td>8.76630</td>\n",
       "      <td>-0.92019</td>\n",
       "      <td>18.76548</td>\n",
       "      <td>...</td>\n",
       "      <td>5.66812</td>\n",
       "      <td>-19.68073</td>\n",
       "      <td>33.04964</td>\n",
       "      <td>42.87836</td>\n",
       "      <td>-9.90378</td>\n",
       "      <td>-32.22788</td>\n",
       "      <td>70.49388</td>\n",
       "      <td>12.04941</td>\n",
       "      <td>58.43453</td>\n",
       "      <td>26.92061</td>\n",
       "    </tr>\n",
       "    <tr>\n",
       "      <th>2</th>\n",
       "      <td>2001</td>\n",
       "      <td>50.95714</td>\n",
       "      <td>31.85602</td>\n",
       "      <td>55.81851</td>\n",
       "      <td>13.41693</td>\n",
       "      <td>-6.57898</td>\n",
       "      <td>-18.54940</td>\n",
       "      <td>-3.27872</td>\n",
       "      <td>-2.35035</td>\n",
       "      <td>16.07017</td>\n",
       "      <td>...</td>\n",
       "      <td>3.03800</td>\n",
       "      <td>26.05866</td>\n",
       "      <td>-50.92779</td>\n",
       "      <td>10.93792</td>\n",
       "      <td>-0.07568</td>\n",
       "      <td>43.20130</td>\n",
       "      <td>-115.00698</td>\n",
       "      <td>-0.05859</td>\n",
       "      <td>39.67068</td>\n",
       "      <td>-0.66345</td>\n",
       "    </tr>\n",
       "    <tr>\n",
       "      <th>3</th>\n",
       "      <td>2001</td>\n",
       "      <td>48.24750</td>\n",
       "      <td>-1.89837</td>\n",
       "      <td>36.29772</td>\n",
       "      <td>2.58776</td>\n",
       "      <td>0.97170</td>\n",
       "      <td>-26.21683</td>\n",
       "      <td>5.05097</td>\n",
       "      <td>-10.34124</td>\n",
       "      <td>3.55005</td>\n",
       "      <td>...</td>\n",
       "      <td>34.57337</td>\n",
       "      <td>-171.70734</td>\n",
       "      <td>-16.96705</td>\n",
       "      <td>-46.67617</td>\n",
       "      <td>-12.51516</td>\n",
       "      <td>82.58061</td>\n",
       "      <td>-72.08993</td>\n",
       "      <td>9.90558</td>\n",
       "      <td>199.62971</td>\n",
       "      <td>18.85382</td>\n",
       "    </tr>\n",
       "    <tr>\n",
       "      <th>4</th>\n",
       "      <td>2001</td>\n",
       "      <td>50.97020</td>\n",
       "      <td>42.20998</td>\n",
       "      <td>67.09964</td>\n",
       "      <td>8.46791</td>\n",
       "      <td>-15.85279</td>\n",
       "      <td>-16.81409</td>\n",
       "      <td>-12.48207</td>\n",
       "      <td>-9.37636</td>\n",
       "      <td>12.63699</td>\n",
       "      <td>...</td>\n",
       "      <td>9.92661</td>\n",
       "      <td>-55.95724</td>\n",
       "      <td>64.92712</td>\n",
       "      <td>-17.72522</td>\n",
       "      <td>-1.49237</td>\n",
       "      <td>-7.50035</td>\n",
       "      <td>51.76631</td>\n",
       "      <td>7.88713</td>\n",
       "      <td>55.66926</td>\n",
       "      <td>28.74903</td>\n",
       "    </tr>\n",
       "  </tbody>\n",
       "</table>\n",
       "<p>5 rows × 91 columns</p>\n",
       "</div>"
      ],
      "text/plain": [
       "      0         1         2         3         4         5         6         7  \\\n",
       "0  2001  49.94357  21.47114  73.07750   8.74861 -17.40628 -13.09905 -25.01202   \n",
       "1  2001  48.73215  18.42930  70.32679  12.94636 -10.32437 -24.83777   8.76630   \n",
       "2  2001  50.95714  31.85602  55.81851  13.41693  -6.57898 -18.54940  -3.27872   \n",
       "3  2001  48.24750  -1.89837  36.29772   2.58776   0.97170 -26.21683   5.05097   \n",
       "4  2001  50.97020  42.20998  67.09964   8.46791 -15.85279 -16.81409 -12.48207   \n",
       "\n",
       "          8         9  ...        81         82        83        84        85  \\\n",
       "0 -12.23257   7.83089  ...  13.01620  -54.40548  58.99367  15.37344   1.11144   \n",
       "1  -0.92019  18.76548  ...   5.66812  -19.68073  33.04964  42.87836  -9.90378   \n",
       "2  -2.35035  16.07017  ...   3.03800   26.05866 -50.92779  10.93792  -0.07568   \n",
       "3 -10.34124   3.55005  ...  34.57337 -171.70734 -16.96705 -46.67617 -12.51516   \n",
       "4  -9.37636  12.63699  ...   9.92661  -55.95724  64.92712 -17.72522  -1.49237   \n",
       "\n",
       "         86         87        88         89        90  \n",
       "0 -23.08793   68.40795  -1.82223  -27.46348   2.26327  \n",
       "1 -32.22788   70.49388  12.04941   58.43453  26.92061  \n",
       "2  43.20130 -115.00698  -0.05859   39.67068  -0.66345  \n",
       "3  82.58061  -72.08993   9.90558  199.62971  18.85382  \n",
       "4  -7.50035   51.76631   7.88713   55.66926  28.74903  \n",
       "\n",
       "[5 rows x 91 columns]"
      ]
     },
     "execution_count": 2,
     "metadata": {},
     "output_type": "execute_result"
    }
   ],
   "source": [
    "data = pd.read_csv(\"YearPredictionMSD.csv\", nrows=50000)\n",
    "data.head()"
   ]
  },
  {
   "cell_type": "code",
   "execution_count": 3,
   "metadata": {},
   "outputs": [
    {
     "data": {
      "text/plain": [
       "[]"
      ]
     },
     "execution_count": 3,
     "metadata": {},
     "output_type": "execute_result"
    }
   ],
   "source": [
    "cols = data.columns\n",
    "\n",
    "num_cols = data._get_numeric_data().columns\n",
    "\n",
    "list(set(cols) - set(num_cols))"
   ]
  },
  {
   "cell_type": "code",
   "execution_count": 4,
   "metadata": {},
   "outputs": [
    {
     "data": {
      "text/plain": [
       "0"
      ]
     },
     "execution_count": 4,
     "metadata": {},
     "output_type": "execute_result"
    }
   ],
   "source": [
    "data.isnull().sum().sum()"
   ]
  },
  {
   "cell_type": "code",
   "execution_count": 5,
   "metadata": {},
   "outputs": [
    {
     "name": "stdout",
     "output_type": "stream",
     "text": [
      "{'0': '0.019', '1': '0.010', '2': '0.011', '3': '0.011', '4': '0.015', '5': '0.008', '6': '0.010', '7': '0.010', '8': '0.010', '9': '0.011', '10': '0.005', '11': '0.010', '12': '0.010', '13': '0.015', '14': '0.017', '15': '0.016', '16': '0.016', '17': '0.014', '18': '0.016', '19': '0.013', '20': '0.016', '21': '0.015', '22': '0.013', '23': '0.015', '24': '0.013', '25': '0.018', '26': '0.017', '27': '0.017', '28': '0.018', '29': '0.017', '30': '0.016', '31': '0.015', '32': '0.017', '33': '0.016', '34': '0.015', '35': '0.016', '36': '0.017', '37': '0.017', '38': '0.016', '39': '0.015', '40': '0.017', '41': '0.017', '42': '0.015', '43': '0.014', '44': '0.016', '45': '0.015', '46': '0.017', '47': '0.017', '48': '0.017', '49': '0.015', '50': '0.016', '51': '0.015', '52': '0.015', '53': '0.015', '54': '0.016', '55': '0.018', '56': '0.017', '57': '0.016', '58': '0.013', '59': '0.016', '60': '0.016', '61': '0.015', '62': '0.016', '63': '0.017', '64': '0.017', '65': '0.016', '66': '0.018', '67': '0.015', '68': '0.018', '69': '0.016', '70': '0.017', '71': '0.016', '72': '0.018', '73': '0.015', '74': '0.016', '75': '0.015', '76': '0.017', '77': '0.018', '78': '0.015', '79': '0.014', '80': '0.015', '81': '0.018', '82': '0.017', '83': '0.015', '84': '0.016', '85': '0.015', '86': '0.016', '87': '0.015', '88': '0.015', '89': '0.017', '90': '0.018'}\n"
     ]
    }
   ],
   "source": [
    "outliers = {}\n",
    "for i in range(data.shape[1]):\n",
    "    min_t = data[data.columns[i]].mean() - (3 * data[data.columns[i]].std())\n",
    "    max_t = data[data.columns[i]].mean() + (3 * data[data.columns[i]].std())\n",
    "    count = 0\n",
    "    for j in data[data.columns[i]]:\n",
    "        if j < min_t or j > max_t:\n",
    "            count += 1\n",
    "    percentage = count/data.shape[0]\n",
    "    outliers[data.columns[i]] = \"%.3f\" % percentage\n",
    "\n",
    "print(outliers)"
   ]
  },
  {
   "cell_type": "markdown",
   "metadata": {},
   "source": [
    "### Data Rescaling"
   ]
  },
  {
   "cell_type": "code",
   "execution_count": 6,
   "metadata": {},
   "outputs": [],
   "source": [
    "X = data.iloc[:,1:]\n",
    "Y = data.iloc[:,0]"
   ]
  },
  {
   "cell_type": "code",
   "execution_count": 7,
   "metadata": {},
   "outputs": [
    {
     "data": {
      "text/html": [
       "<div>\n",
       "<style scoped>\n",
       "    .dataframe tbody tr th:only-of-type {\n",
       "        vertical-align: middle;\n",
       "    }\n",
       "\n",
       "    .dataframe tbody tr th {\n",
       "        vertical-align: top;\n",
       "    }\n",
       "\n",
       "    .dataframe thead th {\n",
       "        text-align: right;\n",
       "    }\n",
       "</style>\n",
       "<table border=\"1\" class=\"dataframe\">\n",
       "  <thead>\n",
       "    <tr style=\"text-align: right;\">\n",
       "      <th></th>\n",
       "      <th>1</th>\n",
       "      <th>2</th>\n",
       "      <th>3</th>\n",
       "      <th>4</th>\n",
       "      <th>5</th>\n",
       "      <th>6</th>\n",
       "      <th>7</th>\n",
       "      <th>8</th>\n",
       "      <th>9</th>\n",
       "      <th>10</th>\n",
       "      <th>...</th>\n",
       "      <th>81</th>\n",
       "      <th>82</th>\n",
       "      <th>83</th>\n",
       "      <th>84</th>\n",
       "      <th>85</th>\n",
       "      <th>86</th>\n",
       "      <th>87</th>\n",
       "      <th>88</th>\n",
       "      <th>89</th>\n",
       "      <th>90</th>\n",
       "    </tr>\n",
       "  </thead>\n",
       "  <tbody>\n",
       "    <tr>\n",
       "      <th>0</th>\n",
       "      <td>1.082657</td>\n",
       "      <td>0.382437</td>\n",
       "      <td>1.841985</td>\n",
       "      <td>0.459652</td>\n",
       "      <td>-0.480074</td>\n",
       "      <td>-0.282606</td>\n",
       "      <td>-1.590785</td>\n",
       "      <td>-1.300854</td>\n",
       "      <td>0.378336</td>\n",
       "      <td>-0.683719</td>\n",
       "      <td>...</td>\n",
       "      <td>-0.086005</td>\n",
       "      <td>0.099339</td>\n",
       "      <td>0.148291</td>\n",
       "      <td>-0.255625</td>\n",
       "      <td>0.040944</td>\n",
       "      <td>-0.362616</td>\n",
       "      <td>0.524542</td>\n",
       "      <td>-0.467668</td>\n",
       "      <td>-0.247579</td>\n",
       "      <td>0.036872</td>\n",
       "    </tr>\n",
       "    <tr>\n",
       "      <th>1</th>\n",
       "      <td>0.880874</td>\n",
       "      <td>0.321953</td>\n",
       "      <td>1.763666</td>\n",
       "      <td>0.717085</td>\n",
       "      <td>-0.165507</td>\n",
       "      <td>-1.188896</td>\n",
       "      <td>0.777905</td>\n",
       "      <td>0.122576</td>\n",
       "      <td>1.420531</td>\n",
       "      <td>0.401198</td>\n",
       "      <td>...</td>\n",
       "      <td>-0.316635</td>\n",
       "      <td>0.301448</td>\n",
       "      <td>-0.063611</td>\n",
       "      <td>0.031855</td>\n",
       "      <td>-0.655124</td>\n",
       "      <td>-0.443921</td>\n",
       "      <td>0.536517</td>\n",
       "      <td>0.573191</td>\n",
       "      <td>0.209887</td>\n",
       "      <td>1.155171</td>\n",
       "    </tr>\n",
       "    <tr>\n",
       "      <th>2</th>\n",
       "      <td>1.251484</td>\n",
       "      <td>0.588929</td>\n",
       "      <td>1.350579</td>\n",
       "      <td>0.745944</td>\n",
       "      <td>0.000857</td>\n",
       "      <td>-0.703401</td>\n",
       "      <td>-0.066747</td>\n",
       "      <td>-0.057380</td>\n",
       "      <td>1.163637</td>\n",
       "      <td>-0.090081</td>\n",
       "      <td>...</td>\n",
       "      <td>-0.399185</td>\n",
       "      <td>0.567666</td>\n",
       "      <td>-0.749508</td>\n",
       "      <td>-0.301984</td>\n",
       "      <td>-0.034072</td>\n",
       "      <td>0.227059</td>\n",
       "      <td>-0.528413</td>\n",
       "      <td>-0.335333</td>\n",
       "      <td>0.109957</td>\n",
       "      <td>-0.095865</td>\n",
       "    </tr>\n",
       "    <tr>\n",
       "      <th>3</th>\n",
       "      <td>0.800148</td>\n",
       "      <td>-0.082240</td>\n",
       "      <td>0.794774</td>\n",
       "      <td>0.081829</td>\n",
       "      <td>0.336246</td>\n",
       "      <td>-1.295366</td>\n",
       "      <td>0.517369</td>\n",
       "      <td>-1.062869</td>\n",
       "      <td>-0.029679</td>\n",
       "      <td>-1.282306</td>\n",
       "      <td>...</td>\n",
       "      <td>0.590596</td>\n",
       "      <td>-0.583396</td>\n",
       "      <td>-0.472129</td>\n",
       "      <td>-0.904164</td>\n",
       "      <td>-0.820141</td>\n",
       "      <td>0.577357</td>\n",
       "      <td>-0.282033</td>\n",
       "      <td>0.412329</td>\n",
       "      <td>0.961849</td>\n",
       "      <td>0.789313</td>\n",
       "    </tr>\n",
       "    <tr>\n",
       "      <th>4</th>\n",
       "      <td>1.253660</td>\n",
       "      <td>0.794806</td>\n",
       "      <td>1.671781</td>\n",
       "      <td>0.442438</td>\n",
       "      <td>-0.411071</td>\n",
       "      <td>-0.569426</td>\n",
       "      <td>-0.712128</td>\n",
       "      <td>-0.941459</td>\n",
       "      <td>0.836414</td>\n",
       "      <td>-0.160630</td>\n",
       "      <td>...</td>\n",
       "      <td>-0.182976</td>\n",
       "      <td>0.090307</td>\n",
       "      <td>0.196753</td>\n",
       "      <td>-0.601570</td>\n",
       "      <td>-0.123595</td>\n",
       "      <td>-0.223957</td>\n",
       "      <td>0.429005</td>\n",
       "      <td>0.260874</td>\n",
       "      <td>0.195160</td>\n",
       "      <td>1.238096</td>\n",
       "    </tr>\n",
       "  </tbody>\n",
       "</table>\n",
       "<p>5 rows × 90 columns</p>\n",
       "</div>"
      ],
      "text/plain": [
       "          1         2         3         4         5         6         7  \\\n",
       "0  1.082657  0.382437  1.841985  0.459652 -0.480074 -0.282606 -1.590785   \n",
       "1  0.880874  0.321953  1.763666  0.717085 -0.165507 -1.188896  0.777905   \n",
       "2  1.251484  0.588929  1.350579  0.745944  0.000857 -0.703401 -0.066747   \n",
       "3  0.800148 -0.082240  0.794774  0.081829  0.336246 -1.295366  0.517369   \n",
       "4  1.253660  0.794806  1.671781  0.442438 -0.411071 -0.569426 -0.712128   \n",
       "\n",
       "          8         9        10  ...        81        82        83        84  \\\n",
       "0 -1.300854  0.378336 -0.683719  ... -0.086005  0.099339  0.148291 -0.255625   \n",
       "1  0.122576  1.420531  0.401198  ... -0.316635  0.301448 -0.063611  0.031855   \n",
       "2 -0.057380  1.163637 -0.090081  ... -0.399185  0.567666 -0.749508 -0.301984   \n",
       "3 -1.062869 -0.029679 -1.282306  ...  0.590596 -0.583396 -0.472129 -0.904164   \n",
       "4 -0.941459  0.836414 -0.160630  ... -0.182976  0.090307  0.196753 -0.601570   \n",
       "\n",
       "         85        86        87        88        89        90  \n",
       "0  0.040944 -0.362616  0.524542 -0.467668 -0.247579  0.036872  \n",
       "1 -0.655124 -0.443921  0.536517  0.573191  0.209887  1.155171  \n",
       "2 -0.034072  0.227059 -0.528413 -0.335333  0.109957 -0.095865  \n",
       "3 -0.820141  0.577357 -0.282033  0.412329  0.961849  0.789313  \n",
       "4 -0.123595 -0.223957  0.429005  0.260874  0.195160  1.238096  \n",
       "\n",
       "[5 rows x 90 columns]"
      ]
     },
     "execution_count": 7,
     "metadata": {},
     "output_type": "execute_result"
    }
   ],
   "source": [
    "X = (X - X.mean())/X.std()\n",
    "X.head()"
   ]
  },
  {
   "cell_type": "markdown",
   "metadata": {},
   "source": [
    "### Splitting the Dataset"
   ]
  },
  {
   "cell_type": "code",
   "execution_count": 8,
   "metadata": {},
   "outputs": [],
   "source": [
    "from sklearn.model_selection import train_test_split"
   ]
  },
  {
   "cell_type": "code",
   "execution_count": 9,
   "metadata": {},
   "outputs": [],
   "source": [
    "X_shuffle = X.sample(frac=1, random_state=0)\n",
    "Y_shuffle = Y.sample(frac=1, random_state=0)"
   ]
  },
  {
   "cell_type": "code",
   "execution_count": 10,
   "metadata": {},
   "outputs": [],
   "source": [
    "x_new, x_test, y_new, y_test = train_test_split(X_shuffle, Y_shuffle, test_size=0.2, random_state=0)\n",
    "dev_per = x_test.shape[0]/x_new.shape[0]\n",
    "x_train, x_dev, y_train, y_dev = train_test_split(x_new, y_new, test_size=dev_per, random_state=0)"
   ]
  },
  {
   "cell_type": "code",
   "execution_count": 11,
   "metadata": {},
   "outputs": [
    {
     "name": "stdout",
     "output_type": "stream",
     "text": [
      "(30000, 90) (30000,)\n",
      "(10000, 90) (10000,)\n",
      "(10000, 90) (10000,)\n"
     ]
    }
   ],
   "source": [
    "print(x_train.shape, y_train.shape)\n",
    "print(x_dev.shape, y_dev.shape)\n",
    "print(x_test.shape, y_test.shape)"
   ]
  },
  {
   "cell_type": "markdown",
   "metadata": {},
   "source": [
    "## Activity 2.02"
   ]
  },
  {
   "cell_type": "code",
   "execution_count": 12,
   "metadata": {},
   "outputs": [],
   "source": [
    "import torch\n",
    "import torch.nn as nn"
   ]
  },
  {
   "cell_type": "code",
   "execution_count": 13,
   "metadata": {},
   "outputs": [
    {
     "data": {
      "text/plain": [
       "<torch._C.Generator at 0x15588684670>"
      ]
     },
     "execution_count": 13,
     "metadata": {},
     "output_type": "execute_result"
    }
   ],
   "source": [
    "torch.manual_seed(0)"
   ]
  },
  {
   "cell_type": "code",
   "execution_count": 14,
   "metadata": {},
   "outputs": [],
   "source": [
    "x_train = torch.tensor(x_train.values).float()\n",
    "y_train = torch.tensor(y_train.values).float()\n",
    "\n",
    "x_dev = torch.tensor(x_dev.values).float()\n",
    "y_dev = torch.tensor(y_dev.values).float()\n",
    "\n",
    "x_test = torch.tensor(x_test.values).float()\n",
    "y_test = torch.tensor(y_test.values).float()"
   ]
  },
  {
   "cell_type": "code",
   "execution_count": 15,
   "metadata": {},
   "outputs": [],
   "source": [
    "model = nn.Sequential(nn.Linear(x_train.shape[1],10),\n",
    "                      nn.ReLU(),\n",
    "                      \n",
    "                      nn.Linear(10,7),\n",
    "                      nn.ReLU(),\n",
    "                      \n",
    "                      nn.Linear(7,5),\n",
    "                      nn.ReLU(),\n",
    "                     \n",
    "                      nn.Linear(5,1))"
   ]
  },
  {
   "cell_type": "code",
   "execution_count": 16,
   "metadata": {},
   "outputs": [],
   "source": [
    "loss_function = torch.nn.MSELoss()"
   ]
  },
  {
   "cell_type": "code",
   "execution_count": 17,
   "metadata": {},
   "outputs": [],
   "source": [
    "optimizer = torch.optim.Adam(model.parameters(), lr=0.01)"
   ]
  },
  {
   "cell_type": "code",
   "execution_count": 18,
   "metadata": {},
   "outputs": [
    {
     "name": "stdout",
     "output_type": "stream",
     "text": [
      "0 3994019.0\n",
      "250 201386.453125\n",
      "500 14112.63671875\n",
      "750 1335.8272705078125\n",
      "1000 395.6895446777344\n",
      "1250 194.95443725585938\n",
      "1500 133.73471069335938\n",
      "1750 110.14823913574219\n",
      "2000 99.99466705322266\n",
      "2250 95.12146759033203\n",
      "2500 92.46707153320312\n",
      "2750 90.93629455566406\n"
     ]
    }
   ],
   "source": [
    "for i in range(3000):\n",
    "    y_pred = model(x_train).squeeze()\n",
    "    loss = loss_function(y_pred, y_train)\n",
    "    \n",
    "    optimizer.zero_grad()\n",
    "    loss.backward()\n",
    "    optimizer.step()\n",
    "    \n",
    "    if i%250 == 0:\n",
    "        print(i, loss.item())"
   ]
  },
  {
   "cell_type": "code",
   "execution_count": 19,
   "metadata": {},
   "outputs": [
    {
     "name": "stdout",
     "output_type": "stream",
     "text": [
      "Ground truth: 1995.0 Prediction: 1998.0279541015625\n"
     ]
    }
   ],
   "source": [
    "pred = model(x_test[0])\n",
    "print(\"Ground truth:\", y_test[0].item(), \"Prediction:\", pred.item())"
   ]
  },
  {
   "cell_type": "code",
   "execution_count": null,
   "metadata": {},
   "outputs": [],
   "source": []
  }
 ],
 "metadata": {
  "kernelspec": {
   "display_name": "Python 3",
   "language": "python",
   "name": "python3"
  },
  "language_info": {
   "codemirror_mode": {
    "name": "ipython",
    "version": 3
   },
   "file_extension": ".py",
   "mimetype": "text/x-python",
   "name": "python",
   "nbconvert_exporter": "python",
   "pygments_lexer": "ipython3",
   "version": "3.7.3"
  }
 },
 "nbformat": 4,
 "nbformat_minor": 2
}
